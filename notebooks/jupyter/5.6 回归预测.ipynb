{
 "cells": [
  {
   "cell_type": "markdown",
   "metadata": {},
   "source": [
    "## 5.6 回归预测"
   ]
  },
  {
   "cell_type": "markdown",
   "metadata": {},
   "source": []
  },
  {
   "cell_type": "code",
   "execution_count": null,
   "outputs": [],
   "source": [
    "library(fpp2)\n",
    "library(forecast)\n",
    "library(extrafont)\n",
    "\n",
    "# 导入中文字体\n",
    "font_import(pattern = \"simhei.ttf\")  # simhei.ttf是中文字体的文件名，需要将其放在R工作目录下\n",
    "\n",
    "# 加载字体\n",
    "loadfonts(device = \"win\")\n",
    "\n",
    "# 设置字体\n",
    "Sys.setenv(\"font.family\"=\"SimHei\")"
   ],
   "metadata": {
    "collapsed": false,
    "is_executing": true
   }
  },
  {
   "cell_type": "code",
   "execution_count": null,
   "outputs": [],
   "source": [
    "beer2 <- window(ausbeer, start=1992)\n",
    "fit.beer <- tslm(beer2 ~ trend + season)\n",
    "fcast <- forecast(fit.beer)\n",
    "autoplot(fcast) +\n",
    "  ggtitle(\"利用线性回归模型预测啤酒产出\")+\n",
    "  theme(text = element_text())+\n",
    "  theme(plot.title = element_text(hjust = 0.5))"
   ],
   "metadata": {
    "collapsed": false,
    "is_executing": true
   }
  },
  {
   "cell_type": "markdown",
   "source": [],
   "metadata": {
    "collapsed": false
   }
  },
  {
   "cell_type": "code",
   "execution_count": null,
   "outputs": [],
   "source": [
    "beer2 <- window(ausbeer, start=1992)\n",
    "fit.beer <- tslm(beer2 ~ trend + season)\n",
    "fcast <- forecast(fit.beer)\n",
    "autoplot(fcast) +\n",
    "ggtitle(\"利用线性回归模型预测啤酒产出\")+\n",
    "theme(text = element_text(family = \"STHeiti\"))+\n",
    "theme(plot.title = element_text(hjust = 0.5))\n",
    "ggtitle(\"利用线性回归模型预测啤酒产出\")+\n",
    "theme(text = element_text(family = \"STHeiti\"))+\n",
    "theme(plot.title = element_text(hjust = 0.5))"
   ],
   "metadata": {
    "collapsed": false,
    "is_executing": true
   }
  },
  {
   "cell_type": "code",
   "execution_count": null,
   "outputs": [],
   "source": [
    "fit.consBest <- tslm(\n",
    "  Consumption ~ Income + Savings + Unemployment,\n",
    "  data = uschange)\n",
    "h <- 4\n",
    "newdata <- data.frame(\n",
    "    Income = c(1, 1, 1, 1),\n",
    "    Savings = c(0.5, 0.5, 0.5, 0.5),\n",
    "    Unemployment = c(0, 0, 0, 0))\n",
    "fcast.up <- forecast(fit.consBest, newdata = newdata)\n",
    "newdata <- data.frame(\n",
    "    Income = rep(-1, h),\n",
    "    Savings = rep(-0.5, h),\n",
    "    Unemployment = rep(0, h))\n",
    "fcast.down <- forecast(fit.consBest, newdata = newdata)"
   ],
   "metadata": {
    "collapsed": false,
    "is_executing": true
   }
  }
 ],
 "metadata": {
  "kernelspec": {
   "display_name": "R",
   "language": "R",
   "name": "ir"
  },
  "language_info": {
   "codemirror_mode": "r",
   "file_extension": ".r",
   "mimetype": "text/x-r-source",
   "name": "R",
   "pygments_lexer": "r",
   "version": "4.2.1"
  },
  "orig_nbformat": 4
 },
 "nbformat": 4,
 "nbformat_minor": 2
}
